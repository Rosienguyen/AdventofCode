{
 "cells": [
  {
   "cell_type": "code",
   "execution_count": 2,
   "metadata": {
    "ExecuteTime": {
     "end_time": "2021-02-13T17:39:48.447463Z",
     "start_time": "2021-02-13T17:39:48.445020Z"
    }
   },
   "outputs": [],
   "source": [
    "import requests\n"
   ]
  },
  {
   "cell_type": "code",
   "execution_count": 5,
   "metadata": {
    "ExecuteTime": {
     "end_time": "2021-02-13T17:46:52.828575Z",
     "start_time": "2021-02-13T17:46:51.873104Z"
    }
   },
   "outputs": [],
   "source": [
    " url = requests.get('https://adventofcode.com/2020/day/1/input', auth=('user', 'pass'))\n",
    "    "
   ]
  },
  {
   "cell_type": "code",
   "execution_count": 6,
   "metadata": {
    "ExecuteTime": {
     "end_time": "2021-02-13T17:46:53.583456Z",
     "start_time": "2021-02-13T17:46:53.579419Z"
    }
   },
   "outputs": [
    {
     "data": {
      "text/plain": [
       "b'Puzzle inputs differ by user.  Please log in to get your puzzle input.\\n'"
      ]
     },
     "execution_count": 6,
     "metadata": {},
     "output_type": "execute_result"
    }
   ],
   "source": [
    "url_content = url.content\n",
    "url_content"
   ]
  },
  {
   "cell_type": "markdown",
   "metadata": {},
   "source": [
    "# Day 1"
   ]
  },
  {
   "cell_type": "markdown",
   "metadata": {},
   "source": [
    "## Part 1"
   ]
  },
  {
   "cell_type": "code",
   "execution_count": 40,
   "metadata": {
    "ExecuteTime": {
     "end_time": "2021-02-13T18:01:48.878288Z",
     "start_time": "2021-02-13T18:01:48.875446Z"
    }
   },
   "outputs": [],
   "source": [
    "file = open(\"day1_input.txt\", 'r')"
   ]
  },
  {
   "cell_type": "code",
   "execution_count": 41,
   "metadata": {
    "ExecuteTime": {
     "end_time": "2021-02-13T18:01:49.377427Z",
     "start_time": "2021-02-13T18:01:49.371126Z"
    }
   },
   "outputs": [
    {
     "data": {
      "text/plain": [
       "[1883,\n",
       " 1543,\n",
       " 1801,\n",
       " 1731,\n",
       " 1070,\n",
       " 1631,\n",
       " 1490,\n",
       " 1179,\n",
       " 1098,\n",
       " 1582,\n",
       " 1717,\n",
       " 1830,\n",
       " 1408,\n",
       " 1524,\n",
       " 889,\n",
       " 985,\n",
       " 2005,\n",
       " 1540,\n",
       " 1085,\n",
       " 1607,\n",
       " 1518,\n",
       " 1993,\n",
       " 1496,\n",
       " 1537,\n",
       " 1514,\n",
       " 1719,\n",
       " 1218,\n",
       " 1420,\n",
       " 1027,\n",
       " 1339,\n",
       " 1430,\n",
       " 989,\n",
       " 1613,\n",
       " 1970,\n",
       " 1227,\n",
       " 1082,\n",
       " 1079,\n",
       " 1068,\n",
       " 1674,\n",
       " 1186,\n",
       " 1744,\n",
       " 1297,\n",
       " 1467,\n",
       " 1647,\n",
       " 1141,\n",
       " 1825,\n",
       " 1759,\n",
       " 1395,\n",
       " 1596,\n",
       " 1405,\n",
       " 1844,\n",
       " 1461,\n",
       " 1762,\n",
       " 1122,\n",
       " 1173,\n",
       " 1838,\n",
       " 1983,\n",
       " 1632,\n",
       " 1995,\n",
       " 1245,\n",
       " 1454,\n",
       " 1120,\n",
       " 1671,\n",
       " 1526,\n",
       " 1572,\n",
       " 1929,\n",
       " 1642,\n",
       " 1864,\n",
       " 1351,\n",
       " 1155,\n",
       " 1885,\n",
       " 1226,\n",
       " 1810,\n",
       " 1252,\n",
       " 1061,\n",
       " 1882,\n",
       " 2002,\n",
       " 1627,\n",
       " 1128,\n",
       " 1575,\n",
       " 1750,\n",
       " 1046,\n",
       " 1767,\n",
       " 1270,\n",
       " 1037,\n",
       " 1198,\n",
       " 1942,\n",
       " 1074,\n",
       " 1820,\n",
       " 1301,\n",
       " 1382,\n",
       " 1687,\n",
       " 1824,\n",
       " 1996,\n",
       " 1704,\n",
       " 1051,\n",
       " 1546,\n",
       " 1431,\n",
       " 1102,\n",
       " 1041,\n",
       " 1547,\n",
       " 1202,\n",
       " 1875,\n",
       " 1800,\n",
       " 1433,\n",
       " 1901,\n",
       " 1165,\n",
       " 1151,\n",
       " 1785,\n",
       " 1903,\n",
       " 1278,\n",
       " 1185,\n",
       " 1940,\n",
       " 1935,\n",
       " 1479,\n",
       " 1495,\n",
       " 719,\n",
       " 1683,\n",
       " 1972,\n",
       " 1483,\n",
       " 1589,\n",
       " 1636,\n",
       " 1055,\n",
       " 1317,\n",
       " 1530,\n",
       " 1990,\n",
       " 1099,\n",
       " 1697,\n",
       " 1286,\n",
       " 1089,\n",
       " 1136,\n",
       " 1383,\n",
       " 1802,\n",
       " 1618,\n",
       " 1050,\n",
       " 1980,\n",
       " 1279,\n",
       " 1777,\n",
       " 1635,\n",
       " 1721,\n",
       " 1660,\n",
       " 1569,\n",
       " 1554,\n",
       " 1432,\n",
       " 1695,\n",
       " 1551,\n",
       " 1601,\n",
       " 1263,\n",
       " 1866,\n",
       " 1998,\n",
       " 1466,\n",
       " 1205,\n",
       " 1445,\n",
       " 1578,\n",
       " 1267,\n",
       " 1873,\n",
       " 1610,\n",
       " 1900,\n",
       " 1192,\n",
       " 1827,\n",
       " 1305,\n",
       " 1528,\n",
       " 1140,\n",
       " 1440,\n",
       " 1269,\n",
       " 1748,\n",
       " 1187,\n",
       " 52,\n",
       " 1149,\n",
       " 1603,\n",
       " 1033,\n",
       " 1650,\n",
       " 1045,\n",
       " 1345,\n",
       " 1710,\n",
       " 1955,\n",
       " 1891,\n",
       " 1392,\n",
       " 1870,\n",
       " 1357,\n",
       " 1197,\n",
       " 1087,\n",
       " 1690,\n",
       " 1090,\n",
       " 622,\n",
       " 1590,\n",
       " 1304,\n",
       " 1533,\n",
       " 1971,\n",
       " 1959,\n",
       " 1842,\n",
       " 1172,\n",
       " 1653,\n",
       " 1093,\n",
       " 1299,\n",
       " 1203,\n",
       " 1119,\n",
       " 1193,\n",
       " 1223,\n",
       " 1291]"
      ]
     },
     "execution_count": 41,
     "metadata": {},
     "output_type": "execute_result"
    }
   ],
   "source": [
    "data = file.read().strip().splitlines()\n",
    "data = [int(i) for i in data]\n",
    "data"
   ]
  },
  {
   "cell_type": "code",
   "execution_count": 43,
   "metadata": {
    "ExecuteTime": {
     "end_time": "2021-02-13T18:02:48.394444Z",
     "start_time": "2021-02-13T18:02:48.389298Z"
    }
   },
   "outputs": [
    {
     "name": "stdout",
     "output_type": "stream",
     "text": [
      "1301 719 935419\n"
     ]
    }
   ],
   "source": [
    "# Solution 1\n",
    "for ind, value in enumerate(data): \n",
    "    rest = 2020- value\n",
    "    if ind == 0: \n",
    "        search_list = data[ind+1: ]\n",
    "        if rest in search_list: \n",
    "            print(value, rest, rest * value)\n",
    "            break\n",
    "    else: \n",
    "        search_list = data[:ind] + data[ind+1:]\n",
    "        if rest in search_list: \n",
    "            print (value, rest, rest * value)\n",
    "            break"
   ]
  },
  {
   "cell_type": "code",
   "execution_count": 50,
   "metadata": {
    "ExecuteTime": {
     "end_time": "2021-02-13T21:10:08.277218Z",
     "start_time": "2021-02-13T21:10:08.272782Z"
    }
   },
   "outputs": [
    {
     "name": "stdout",
     "output_type": "stream",
     "text": [
      "1301 719 935419\n"
     ]
    }
   ],
   "source": [
    "# Solution 1\n",
    "for ind, value in enumerate(data): \n",
    "    rest = 2020- value\n",
    "    if rest in data[ind+1: ]: \n",
    "        print(value, rest, value * rest)"
   ]
  },
  {
   "cell_type": "code",
   "execution_count": 71,
   "metadata": {
    "ExecuteTime": {
     "end_time": "2021-02-15T23:38:47.420099Z",
     "start_time": "2021-02-15T23:38:47.414833Z"
    }
   },
   "outputs": [
    {
     "data": {
      "text/plain": [
       "[1883,\n",
       " 1543,\n",
       " 1801,\n",
       " 1731,\n",
       " 1070,\n",
       " 1631,\n",
       " 1490,\n",
       " 1179,\n",
       " 1098,\n",
       " 1582,\n",
       " 1717,\n",
       " 1830,\n",
       " 1408,\n",
       " 1524,\n",
       " 889,\n",
       " 985,\n",
       " 2005,\n",
       " 1540,\n",
       " 1085,\n",
       " 1607,\n",
       " 1518,\n",
       " 1993,\n",
       " 1496,\n",
       " 1537,\n",
       " 1514,\n",
       " 1719,\n",
       " 1218,\n",
       " 1420,\n",
       " 1027,\n",
       " 1339,\n",
       " 1430,\n",
       " 989,\n",
       " 1613,\n",
       " 1970,\n",
       " 1227,\n",
       " 1082,\n",
       " 1079,\n",
       " 1068,\n",
       " 1674,\n",
       " 1186,\n",
       " 1744,\n",
       " 1297,\n",
       " 1467,\n",
       " 1647,\n",
       " 1141,\n",
       " 1825,\n",
       " 1759,\n",
       " 1395,\n",
       " 1596,\n",
       " 1405,\n",
       " 1844,\n",
       " 1461,\n",
       " 1762,\n",
       " 1122,\n",
       " 1173,\n",
       " 1838,\n",
       " 1983,\n",
       " 1632,\n",
       " 1995,\n",
       " 1245,\n",
       " 1454,\n",
       " 1120,\n",
       " 1671,\n",
       " 1526,\n",
       " 1572,\n",
       " 1929,\n",
       " 1642,\n",
       " 1864,\n",
       " 1351,\n",
       " 1155,\n",
       " 1885,\n",
       " 1226,\n",
       " 1810,\n",
       " 1252,\n",
       " 1061,\n",
       " 1882,\n",
       " 2002,\n",
       " 1627,\n",
       " 1128,\n",
       " 1575,\n",
       " 1750,\n",
       " 1046,\n",
       " 1767,\n",
       " 1270,\n",
       " 1037,\n",
       " 1198,\n",
       " 1942,\n",
       " 1074,\n",
       " 1820,\n",
       " 1301,\n",
       " 1382,\n",
       " 1687,\n",
       " 1824,\n",
       " 1996,\n",
       " 1704,\n",
       " 1051,\n",
       " 1546,\n",
       " 1431,\n",
       " 1102,\n",
       " 1041,\n",
       " 1547,\n",
       " 1202,\n",
       " 1875,\n",
       " 1800,\n",
       " 1433,\n",
       " 1901,\n",
       " 1165,\n",
       " 1151,\n",
       " 1785,\n",
       " 1903,\n",
       " 1278,\n",
       " 1185,\n",
       " 1940,\n",
       " 1935,\n",
       " 1479,\n",
       " 1495,\n",
       " 719,\n",
       " 1683,\n",
       " 1972,\n",
       " 1483,\n",
       " 1589,\n",
       " 1636,\n",
       " 1055,\n",
       " 1317,\n",
       " 1530,\n",
       " 1990,\n",
       " 1099,\n",
       " 1697,\n",
       " 1286,\n",
       " 1089,\n",
       " 1136,\n",
       " 1383,\n",
       " 1802,\n",
       " 1618,\n",
       " 1050,\n",
       " 1980,\n",
       " 1279,\n",
       " 1777,\n",
       " 1635,\n",
       " 1721,\n",
       " 1660,\n",
       " 1569,\n",
       " 1554,\n",
       " 1432,\n",
       " 1695,\n",
       " 1551,\n",
       " 1601,\n",
       " 1263,\n",
       " 1866,\n",
       " 1998,\n",
       " 1466,\n",
       " 1205,\n",
       " 1445,\n",
       " 1578,\n",
       " 1267,\n",
       " 1873,\n",
       " 1610,\n",
       " 1900,\n",
       " 1192,\n",
       " 1827,\n",
       " 1305,\n",
       " 1528,\n",
       " 1140,\n",
       " 1440,\n",
       " 1269,\n",
       " 1748,\n",
       " 1187,\n",
       " 52,\n",
       " 1149,\n",
       " 1603,\n",
       " 1033,\n",
       " 1650,\n",
       " 1045,\n",
       " 1345,\n",
       " 1710,\n",
       " 1955,\n",
       " 1891,\n",
       " 1392,\n",
       " 1870,\n",
       " 1357,\n",
       " 1197,\n",
       " 1087,\n",
       " 1690,\n",
       " 1090,\n",
       " 622,\n",
       " 1590,\n",
       " 1304,\n",
       " 1533,\n",
       " 1971,\n",
       " 1959,\n",
       " 1842,\n",
       " 1172,\n",
       " 1653,\n",
       " 1093,\n",
       " 1299,\n",
       " 1203,\n",
       " 1119,\n",
       " 1193,\n",
       " 1223,\n",
       " 1291]"
      ]
     },
     "execution_count": 71,
     "metadata": {},
     "output_type": "execute_result"
    }
   ],
   "source": [
    "data"
   ]
  },
  {
   "cell_type": "code",
   "execution_count": 79,
   "metadata": {
    "ExecuteTime": {
     "end_time": "2021-02-15T23:49:19.932510Z",
     "start_time": "2021-02-15T23:49:19.928261Z"
    }
   },
   "outputs": [
    {
     "name": "stdout",
     "output_type": "stream",
     "text": [
      "935419\n"
     ]
    }
   ],
   "source": [
    "# Solution 1\n",
    "p = {}\n",
    "for ind, value in enumerate(data): \n",
    "    rest = 2020- value\n",
    "    p[value] = rest\n",
    "    if value == p.get(rest):\n",
    "        print(value * rest)"
   ]
  },
  {
   "cell_type": "code",
   "execution_count": 46,
   "metadata": {
    "ExecuteTime": {
     "end_time": "2021-02-13T20:57:45.860791Z",
     "start_time": "2021-02-13T20:57:45.852151Z"
    }
   },
   "outputs": [
    {
     "name": "stdout",
     "output_type": "stream",
     "text": [
      "1301 719 935419\n"
     ]
    }
   ],
   "source": [
    "#Solution 2\n",
    "for i in range(len(data)): \n",
    "    for j in range( i+1, len(data)-1): \n",
    "        if data[i] + data[j] == 2020: \n",
    "            print(data[i], data[j], data[i] *data[j])"
   ]
  },
  {
   "cell_type": "markdown",
   "metadata": {},
   "source": [
    "## Part 2"
   ]
  },
  {
   "cell_type": "code",
   "execution_count": 57,
   "metadata": {
    "ExecuteTime": {
     "end_time": "2021-02-13T21:20:19.746407Z",
     "start_time": "2021-02-13T21:20:19.726635Z"
    }
   },
   "outputs": [
    {
     "name": "stdout",
     "output_type": "stream",
     "text": [
      "889 1079 52 49880012\n",
      "1079 889 52 49880012\n",
      "52 889 1079 49880012\n"
     ]
    }
   ],
   "source": [
    "#solution 2\n",
    "for ind, value in enumerate(data): \n",
    "    rest = 2020- value\n",
    "    if rest >0: \n",
    "        if ind == 0: \n",
    "            search_list = data[ind+1: ]\n",
    "            for ind2, value2 in enumerate(search_list): \n",
    "                rest2 = rest - value2\n",
    "                if rest2 >=0: \n",
    "                    if ind2 ==0: \n",
    "                        search_list2 = search_list[ind2+1: ]\n",
    "                        if rest2 in search_list2: \n",
    "                            print(value, value2, rest2, rest2 * value *value2)\n",
    "                            break\n",
    "                    else: \n",
    "                        search_list2 = search_list[: ind2] + search_list[ind2+1: ]\n",
    "                        if rest2 in search_list2: \n",
    "                            print(value, value2, rest2, rest2 * value *value2)\n",
    "                            break\n",
    "        else: \n",
    "            search_list = data[:ind] + data[ind+1:]\n",
    "            for ind2, value2 in enumerate(search_list): \n",
    "                rest2 = rest - value2\n",
    "                if rest2 >=0: \n",
    "                    if ind2 ==0: \n",
    "                        search_list2 = search_list[ind2+1: ]\n",
    "                        if rest2 in search_list2: \n",
    "                            print(value, value2, rest2, rest2 * value *value2)\n",
    "                            break\n",
    "                    else: \n",
    "                        search_list2 = search_list[: ind2] + search_list[ind2+1: ]\n",
    "                        if rest2 in search_list2: \n",
    "                            print(value, value2, rest2, rest2 * value *value2)\n",
    "                            break"
   ]
  },
  {
   "cell_type": "code",
   "execution_count": 47,
   "metadata": {
    "ExecuteTime": {
     "end_time": "2021-02-13T21:02:22.542328Z",
     "start_time": "2021-02-13T21:02:22.224953Z"
    }
   },
   "outputs": [
    {
     "name": "stdout",
     "output_type": "stream",
     "text": [
      "889 1079 52 49880012\n"
     ]
    }
   ],
   "source": [
    "for i in range(len(data)-2): \n",
    "    for j in range( i+1, len(data)-1): \n",
    "        for k in range(j+1, len(data)): \n",
    "            if data[i] + data[j] + data[k] == 2020: \n",
    "                print(data[i], data[j], data[k], data[i] *data[j] * data[k])"
   ]
  },
  {
   "cell_type": "code",
   "execution_count": 81,
   "metadata": {
    "ExecuteTime": {
     "end_time": "2021-02-15T23:52:44.121667Z",
     "start_time": "2021-02-15T23:52:44.109987Z"
    }
   },
   "outputs": [
    {
     "name": "stdout",
     "output_type": "stream",
     "text": [
      "49880012\n"
     ]
    }
   ],
   "source": [
    "# Solution 2\n",
    "results = {}\n",
    "for ind, value in enumerate(data[:-3]): \n",
    "    rest = 2020- value\n",
    "    for value2 in data[ind+1:]: \n",
    "        rest2= rest - value2\n",
    "        results[value2] = rest2\n",
    "        if value2 == results.get(rest2): \n",
    "            print(value *value2* rest2)\n",
    "            break"
   ]
  },
  {
   "cell_type": "code",
   "execution_count": null,
   "metadata": {},
   "outputs": [],
   "source": []
  }
 ],
 "metadata": {
  "kernelspec": {
   "display_name": "Python 3",
   "language": "python",
   "name": "python3"
  },
  "language_info": {
   "codemirror_mode": {
    "name": "ipython",
    "version": 3
   },
   "file_extension": ".py",
   "mimetype": "text/x-python",
   "name": "python",
   "nbconvert_exporter": "python",
   "pygments_lexer": "ipython3",
   "version": "3.8.1"
  },
  "latex_envs": {
   "LaTeX_envs_menu_present": true,
   "autoclose": false,
   "autocomplete": true,
   "bibliofile": "biblio.bib",
   "cite_by": "apalike",
   "current_citInitial": 1,
   "eqLabelWithNumbers": true,
   "eqNumInitial": 1,
   "hotkeys": {
    "equation": "Ctrl-E",
    "itemize": "Ctrl-I"
   },
   "labels_anchors": false,
   "latex_user_defs": false,
   "report_style_numbering": false,
   "user_envs_cfg": false
  },
  "toc": {
   "base_numbering": 1,
   "nav_menu": {},
   "number_sections": true,
   "sideBar": true,
   "skip_h1_title": false,
   "title_cell": "Table of Contents",
   "title_sidebar": "Contents",
   "toc_cell": false,
   "toc_position": {},
   "toc_section_display": true,
   "toc_window_display": true
  },
  "varInspector": {
   "cols": {
    "lenName": 16,
    "lenType": 16,
    "lenVar": 40
   },
   "kernels_config": {
    "python": {
     "delete_cmd_postfix": "",
     "delete_cmd_prefix": "del ",
     "library": "var_list.py",
     "varRefreshCmd": "print(var_dic_list())"
    },
    "r": {
     "delete_cmd_postfix": ") ",
     "delete_cmd_prefix": "rm(",
     "library": "var_list.r",
     "varRefreshCmd": "cat(var_dic_list()) "
    }
   },
   "types_to_exclude": [
    "module",
    "function",
    "builtin_function_or_method",
    "instance",
    "_Feature"
   ],
   "window_display": false
  }
 },
 "nbformat": 4,
 "nbformat_minor": 4
}
