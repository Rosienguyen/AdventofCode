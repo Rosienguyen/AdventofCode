{
 "cells": [
  {
   "cell_type": "code",
   "execution_count": 1,
   "metadata": {
    "ExecuteTime": {
     "end_time": "2021-02-28T17:46:52.987541Z",
     "start_time": "2021-02-28T17:46:52.982205Z"
    }
   },
   "outputs": [],
   "source": [
    "with open ('Day5.txt', 'rt') as f:\n",
    "    data = f.read().strip()\n",
    "data = data.split('\\n')\n",
    "# data[:5]    "
   ]
  },
  {
   "cell_type": "markdown",
   "metadata": {},
   "source": [
    "## Part 1"
   ]
  },
  {
   "cell_type": "code",
   "execution_count": 37,
   "metadata": {
    "ExecuteTime": {
     "end_time": "2021-02-19T21:49:57.092257Z",
     "start_time": "2021-02-19T21:49:57.084061Z"
    }
   },
   "outputs": [
    {
     "name": "stdout",
     "output_type": "stream",
     "text": [
      "885\n"
     ]
    }
   ],
   "source": [
    "def find_position(code,  start, end, left, right): \n",
    "    for value in code: \n",
    "        if value == left: \n",
    "            end = (end + start)//2\n",
    "            final = end\n",
    "        else: \n",
    "            start = (start + end)//2 + 1\n",
    "            final = start\n",
    "    return final\n",
    "            \n",
    "def find_id(code): \n",
    "    rows = code[:7]\n",
    "    row_final = find_position(rows, 0, 127, 'F', 'B')\n",
    "    columns = code[7:]\n",
    "    col_final = find_position(columns, 0, 7, 'L',  'R')\n",
    "    return (row_final * 8 + col_final)\n",
    "            \n",
    "max_id = 0\n",
    "for seat in data: \n",
    "    max_id = max(max_id, find_id(seat))\n",
    "print(max_id)\n"
   ]
  },
  {
   "cell_type": "markdown",
   "metadata": {},
   "source": [
    "## Part 2"
   ]
  },
  {
   "cell_type": "code",
   "execution_count": 43,
   "metadata": {
    "ExecuteTime": {
     "end_time": "2021-02-19T23:42:09.360720Z",
     "start_time": "2021-02-19T23:42:09.354973Z"
    }
   },
   "outputs": [
    {
     "name": "stdout",
     "output_type": "stream",
     "text": [
      "{623}\n"
     ]
    }
   ],
   "source": [
    "seats = set()\n",
    "for seat in data:\n",
    "    seats.add(find_id(seat))\n",
    "all_seats = set()\n",
    "for i in range(min(seats), max(seats)+1):\n",
    "    all_seats.add(i)\n",
    "print(all_seats.difference(seats))"
   ]
  },
  {
   "cell_type": "code",
   "execution_count": 38,
   "metadata": {
    "ExecuteTime": {
     "end_time": "2021-02-19T23:23:19.966345Z",
     "start_time": "2021-02-19T23:23:19.958460Z"
    }
   },
   "outputs": [
    {
     "name": "stdout",
     "output_type": "stream",
     "text": [
      "885\n",
      "623\n"
     ]
    }
   ],
   "source": [
    "#Credit to AOC founder, Eric Wastl\n",
    "r = open('Day5.txt').read().strip('\\n')\n",
    "input = r.splitlines()\n",
    "\n",
    "#Part 1\n",
    "seats = [int(x.replace('F','0').replace('B','1').replace('L','0').replace('R','1'),2) for x in input]\n",
    "seats.sort()\n",
    "print(seats[-1])\n",
    "\n",
    "#Part 2\n",
    "for x in range(len(seats)):\n",
    "    if seats[x+1] - seats[x] != 1:\n",
    "        print(seats[x] + 1)\n",
    "        break\n",
    "    "
   ]
  },
  {
   "cell_type": "code",
   "execution_count": null,
   "metadata": {},
   "outputs": [],
   "source": []
  }
 ],
 "metadata": {
  "kernelspec": {
   "display_name": "Python 3",
   "language": "python",
   "name": "python3"
  },
  "language_info": {
   "codemirror_mode": {
    "name": "ipython",
    "version": 3
   },
   "file_extension": ".py",
   "mimetype": "text/x-python",
   "name": "python",
   "nbconvert_exporter": "python",
   "pygments_lexer": "ipython3",
   "version": "3.8.1"
  },
  "latex_envs": {
   "LaTeX_envs_menu_present": true,
   "autoclose": false,
   "autocomplete": true,
   "bibliofile": "biblio.bib",
   "cite_by": "apalike",
   "current_citInitial": 1,
   "eqLabelWithNumbers": true,
   "eqNumInitial": 1,
   "hotkeys": {
    "equation": "Ctrl-E",
    "itemize": "Ctrl-I"
   },
   "labels_anchors": false,
   "latex_user_defs": false,
   "report_style_numbering": false,
   "user_envs_cfg": false
  },
  "toc": {
   "base_numbering": 1,
   "nav_menu": {},
   "number_sections": true,
   "sideBar": true,
   "skip_h1_title": false,
   "title_cell": "Table of Contents",
   "title_sidebar": "Contents",
   "toc_cell": false,
   "toc_position": {},
   "toc_section_display": true,
   "toc_window_display": false
  },
  "varInspector": {
   "cols": {
    "lenName": 16,
    "lenType": 16,
    "lenVar": 40
   },
   "kernels_config": {
    "python": {
     "delete_cmd_postfix": "",
     "delete_cmd_prefix": "del ",
     "library": "var_list.py",
     "varRefreshCmd": "print(var_dic_list())"
    },
    "r": {
     "delete_cmd_postfix": ") ",
     "delete_cmd_prefix": "rm(",
     "library": "var_list.r",
     "varRefreshCmd": "cat(var_dic_list()) "
    }
   },
   "types_to_exclude": [
    "module",
    "function",
    "builtin_function_or_method",
    "instance",
    "_Feature"
   ],
   "window_display": false
  }
 },
 "nbformat": 4,
 "nbformat_minor": 4
}
