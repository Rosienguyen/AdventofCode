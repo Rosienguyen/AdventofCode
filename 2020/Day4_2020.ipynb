{
 "cells": [
  {
   "cell_type": "code",
   "execution_count": null,
   "metadata": {
    "ExecuteTime": {
     "end_time": "2021-02-18T22:50:14.802143Z",
     "start_time": "2021-02-18T22:50:14.798480Z"
    }
   },
   "outputs": [],
   "source": [
    "file = open('Day4.txt')\n",
    "data = file.readlines()\n",
    "# data.append('\\n')\n",
    "data = [line.strip() for line in data]\n",
    "# data"
   ]
  },
  {
   "cell_type": "markdown",
   "metadata": {
    "ExecuteTime": {
     "end_time": "2021-02-18T21:35:10.483314Z",
     "start_time": "2021-02-18T21:35:10.480882Z"
    }
   },
   "source": [
    "## Part 1"
   ]
  },
  {
   "cell_type": "code",
   "execution_count": 13,
   "metadata": {
    "ExecuteTime": {
     "end_time": "2021-02-19T10:04:05.689989Z",
     "start_time": "2021-02-19T10:04:05.681686Z"
    }
   },
   "outputs": [
    {
     "name": "stdout",
     "output_type": "stream",
     "text": [
      "235\n"
     ]
    }
   ],
   "source": [
    "# Solution 1\n",
    "with open ('Day4.txt', 'rt') as f: \n",
    "    data = f.read().strip()\n",
    "# data\n",
    "passports = data.split(\"\\n\\n\")\n",
    "\n",
    "# using \"\\n\\n\" to split into each passport\n",
    "REQUIRED_FIELDS = set(['byr', 'iyr', 'eyr', 'hgt', 'hcl', 'ecl', 'pid'])\n",
    "num_valid = 0\n",
    "for passport in passports:\n",
    "    found_fields = set()\n",
    "    #make sure that the list is not duplicated\n",
    "    for kv in passport.split(): \n",
    "        # a way to split each field. with split(), it takes any whitespace including (\\n) as delimiter\n",
    "        k = kv.split(\":\")[0] #take the first part of the split\n",
    "        found_fields.add(k)\n",
    "#     print(found_fields)\n",
    "    if REQUIRED_FIELDS.difference(found_fields) == set(): \n",
    "        num_valid += 1\n",
    "print(num_valid)\n",
    "        "
   ]
  },
  {
   "cell_type": "code",
   "execution_count": 2,
   "metadata": {
    "ExecuteTime": {
     "end_time": "2021-02-28T17:44:04.388435Z",
     "start_time": "2021-02-28T17:44:04.378924Z"
    }
   },
   "outputs": [
    {
     "data": {
      "text/plain": [
       "235"
      ]
     },
     "execution_count": 2,
     "metadata": {},
     "output_type": "execute_result"
    }
   ],
   "source": [
    "# Solution 2\n",
    "import re\n",
    "valid = 0\n",
    "traveler = []\n",
    "travelers = []\n",
    "for line in data:\n",
    "    if line == '':\n",
    "        if traveler is None: \n",
    "            pass\n",
    "        travelers.append(traveler)\n",
    "        traveler = []\n",
    "    else: \n",
    "        for field in re.split(':| ', line): \n",
    "            traveler.append(field)\n",
    "travelers.append(traveler)\n",
    "valid = 0\n",
    "for passport in travelers: \n",
    "     if len(passport) == 16 or (len(passport) == 14 and 'cid' not in passport):\n",
    "            valid += 1\n",
    "valid            "
   ]
  },
  {
   "cell_type": "markdown",
   "metadata": {
    "ExecuteTime": {
     "end_time": "2021-02-17T22:32:56.269146Z",
     "start_time": "2021-02-17T22:32:56.261112Z"
    }
   },
   "source": [
    "## Part 2"
   ]
  },
  {
   "cell_type": "code",
   "execution_count": 3,
   "metadata": {
    "ExecuteTime": {
     "end_time": "2021-02-28T17:44:38.993075Z",
     "start_time": "2021-02-28T17:44:38.972150Z"
    }
   },
   "outputs": [
    {
     "data": {
      "text/plain": [
       "194"
      ]
     },
     "execution_count": 3,
     "metadata": {},
     "output_type": "execute_result"
    }
   ],
   "source": [
    "# Solution 1\n",
    "def byr(byr):\n",
    "    return (len(byr) ==4 and  1920 <= int(byr)  <= 2002)\n",
    "\n",
    "def iyr(iyr): \n",
    "    return (len(iyr) == 4 and 2010 <= int(iyr) <= 2020)\n",
    "\n",
    "def eyr(eyr): \n",
    "    return (len(eyr)== 4 and 2020 <= int(eyr) <= 2030)\n",
    "\n",
    "def hgt(hgt):\n",
    "    if hgt[-2:] == 'cm': \n",
    "        return ( 150<= int(hgt[:-2])<= 193)\n",
    "    elif hgt[-2:] =='in': \n",
    "        return (59 <= int(hgt[:-2])<= 76)\n",
    "    return False\n",
    "\n",
    "def ecl(ecl): \n",
    "    eyes= ['amb',  'blu',  'brn',  'gry',  'grn',  'hzl',  'oth']\n",
    "    return (ecl in  eyes)\n",
    "\n",
    "def hcl(hcl): \n",
    "    target = ['0', '1', '2', '3', '4', '5', '6', '7', '8', '9', 'a', 'b', 'c', 'd', 'e', 'f']\n",
    "    total = 0\n",
    "    if  (hcl[0] =='#' and len(hcl[1:]) == 6): \n",
    "        for value in hcl[1:]: \n",
    "            total += value in target\n",
    "        if total == 6: \n",
    "            return True\n",
    "    return False\n",
    "\n",
    "def pid(pid): \n",
    "    target = ['0', '1', '2', '3', '4', '5', '6', '7', '8', '9']\n",
    "    total = 0\n",
    "    if len(pid) == 9: \n",
    "        for value in pid: \n",
    "            total += value in target\n",
    "        if total == 9: \n",
    "            return True\n",
    "    return False\n",
    "\n",
    "total_valid = 0\n",
    "for traveler in travelers: \n",
    "    if len(traveler) == 16 or (len(traveler) == 14 and 'cid' not in traveler):\n",
    "        valid = 0\n",
    "        for ind in range(0,len(traveler),2):\n",
    "            field = traveler[ind]\n",
    "            if field == 'pid': \n",
    "#                 print('pid',traveler[ind+1], pid(traveler[ind+1]))\n",
    "                valid += pid(traveler[ind+1])\n",
    "            elif field == 'byr': \n",
    "                valid += byr(traveler[ind+1])\n",
    "#                 print('byr',traveler[ind+1], byr(traveler[ind+1]))\n",
    "            elif field == 'iyr': \n",
    "                valid += iyr(traveler[ind+1])\n",
    "            elif field == 'hgt': \n",
    "                valid += hgt(traveler[ind+1])\n",
    "#                 print('hgt', traveler[ind+1], hgt(traveler[ind+1]))\n",
    "            elif field == 'hcl': \n",
    "                valid += hcl(traveler[ind+1])\n",
    "#                 print('hcl', traveler[ind+1], hcl(traveler[ind+1]))\n",
    "            elif field == 'ecl': \n",
    "                valid += ecl(traveler[ind+1])\n",
    "#                 print('ecl', traveler[ind+1], ecl(traveler[ind+1]))\n",
    "            elif field  == 'eyr': \n",
    "#                 print('eyr', traveler[ind+1], eyr(traveler[ind+1]) )\n",
    "                valid += eyr(traveler[ind+1])\n",
    "        total_valid += (valid == 7)\n",
    "    \n",
    "total_valid        "
   ]
  },
  {
   "cell_type": "code",
   "execution_count": 15,
   "metadata": {
    "ExecuteTime": {
     "end_time": "2021-02-19T10:18:30.354636Z",
     "start_time": "2021-02-19T10:18:30.339061Z"
    }
   },
   "outputs": [
    {
     "name": "stdout",
     "output_type": "stream",
     "text": [
      "194\n"
     ]
    }
   ],
   "source": [
    "# Solution 2\n",
    "def valid_height(v):\n",
    "    if v.endswith('cm'):\n",
    "        v = v[:-2]\n",
    "        return isint(v) and 150 <= int(v) <= 193\n",
    "    elif v.endswith('in'):\n",
    "        v = v[:-2]\n",
    "        return isint(v) and 59 <= int(v) <= 76\n",
    "    else:\n",
    "        return False\n",
    "\n",
    "\n",
    "def valid_hair_color(v):\n",
    "    if not v.startswith('#'):\n",
    "        return False\n",
    "    v = v[1:]\n",
    "    return all(l in '0123456789abcdef' for l in v)\n",
    "\n",
    "\n",
    "REQUIRED_FIELDS = {\n",
    "    'byr': lambda v: isint(v) and 1920 <= int(v) <= 2002,\n",
    "    'iyr': lambda v: isint(v) and 2010 <= int(v) <= 2020,\n",
    "    'eyr': lambda v: isint(v) and 2020 <= int(v) <= 2030,\n",
    "    'hgt': valid_height,\n",
    "    'hcl': valid_hair_color,\n",
    "    'ecl': lambda v: v in set(['amb', 'blu', 'brn', 'gry', 'grn', 'hzl', 'oth']),\n",
    "    'pid': lambda v: len(v) == 9 and v.isdigit(),\n",
    "}\n",
    "\n",
    "\n",
    "def isint(value):\n",
    "    try:\n",
    "        int(value)\n",
    "        return True\n",
    "    except ValueError:\n",
    "        return False\n",
    "\n",
    "with open(\"Day4.txt\", \"rt\") as f:\n",
    "    data = f.read().strip()\n",
    "passports = data.split(\"\\n\\n\")\n",
    "\n",
    "num_valid = 0\n",
    "for passport in passports:\n",
    "    found_fields = set()\n",
    "    for kv in passport.split():\n",
    "        k, v = kv.split(\":\")\n",
    "        if k in REQUIRED_FIELDS and REQUIRED_FIELDS[k](v):\n",
    "            found_fields.add(k)\n",
    "    if set(REQUIRED_FIELDS).difference(found_fields) == set():\n",
    "        num_valid += 1\n",
    "print(num_valid)\n"
   ]
  },
  {
   "cell_type": "code",
   "execution_count": null,
   "metadata": {},
   "outputs": [],
   "source": []
  }
 ],
 "metadata": {
  "kernelspec": {
   "display_name": "Python 3",
   "language": "python",
   "name": "python3"
  },
  "language_info": {
   "codemirror_mode": {
    "name": "ipython",
    "version": 3
   },
   "file_extension": ".py",
   "mimetype": "text/x-python",
   "name": "python",
   "nbconvert_exporter": "python",
   "pygments_lexer": "ipython3",
   "version": "3.8.1"
  },
  "latex_envs": {
   "LaTeX_envs_menu_present": true,
   "autoclose": false,
   "autocomplete": true,
   "bibliofile": "biblio.bib",
   "cite_by": "apalike",
   "current_citInitial": 1,
   "eqLabelWithNumbers": true,
   "eqNumInitial": 1,
   "hotkeys": {
    "equation": "Ctrl-E",
    "itemize": "Ctrl-I"
   },
   "labels_anchors": false,
   "latex_user_defs": false,
   "report_style_numbering": false,
   "user_envs_cfg": false
  },
  "toc": {
   "base_numbering": 1,
   "nav_menu": {},
   "number_sections": true,
   "sideBar": true,
   "skip_h1_title": false,
   "title_cell": "Table of Contents",
   "title_sidebar": "Contents",
   "toc_cell": false,
   "toc_position": {},
   "toc_section_display": true,
   "toc_window_display": false
  },
  "varInspector": {
   "cols": {
    "lenName": 16,
    "lenType": 16,
    "lenVar": 40
   },
   "kernels_config": {
    "python": {
     "delete_cmd_postfix": "",
     "delete_cmd_prefix": "del ",
     "library": "var_list.py",
     "varRefreshCmd": "print(var_dic_list())"
    },
    "r": {
     "delete_cmd_postfix": ") ",
     "delete_cmd_prefix": "rm(",
     "library": "var_list.r",
     "varRefreshCmd": "cat(var_dic_list()) "
    }
   },
   "types_to_exclude": [
    "module",
    "function",
    "builtin_function_or_method",
    "instance",
    "_Feature"
   ],
   "window_display": false
  }
 },
 "nbformat": 4,
 "nbformat_minor": 4
}
