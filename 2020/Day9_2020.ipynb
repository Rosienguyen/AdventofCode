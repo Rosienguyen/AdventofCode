{
 "cells": [
  {
   "cell_type": "code",
   "execution_count": 156,
   "metadata": {
    "ExecuteTime": {
     "end_time": "2021-03-07T14:43:11.607388Z",
     "start_time": "2021-03-07T14:43:11.602120Z"
    }
   },
   "outputs": [
    {
     "data": {
      "text/plain": [
       "[48, 34, 42, 10, 36]"
      ]
     },
     "execution_count": 156,
     "metadata": {},
     "output_type": "execute_result"
    }
   ],
   "source": [
    "with open ('Day9.txt', 'rt') as f: \n",
    "    data = [int(x) for x in  f.read().split('\\n')]\n",
    "data[:5]"
   ]
  },
  {
   "cell_type": "code",
   "execution_count": 159,
   "metadata": {
    "ExecuteTime": {
     "end_time": "2021-03-07T14:48:07.766866Z",
     "start_time": "2021-03-07T14:48:07.758509Z"
    }
   },
   "outputs": [
    {
     "name": "stdout",
     "output_type": "stream",
     "text": [
      "585 167829540\n"
     ]
    }
   ],
   "source": [
    "#Part 1\n",
    "moving = data[:25]\n",
    "dictionary = {}\n",
    "position = 24\n",
    "positions = {}\n",
    "for pos, number in enumerate(data[25:]):\n",
    "#     print('search:', number,' in ', moving)\n",
    "    for ind, preamble in enumerate(moving):\n",
    "        res = number - preamble\n",
    "#         print(preamble, res)\n",
    "        if res in moving[ind+1:]:\n",
    "            position += 1\n",
    "#             dictionary[number] = [ preamble, res]\n",
    "#             print('position ', position, ' of ', number, 'is sum of', (preamble, res))\n",
    "            moving = moving[1:]\n",
    "            moving.append(number)\n",
    "            positions[position] = number\n",
    "            break\n",
    "            \n",
    "    if number != positions.get(pos+25): \n",
    "        posi = pos + 25\n",
    "        odd = data[pos+25]\n",
    "        print(posi, odd )\n",
    "        break"
   ]
  },
  {
   "cell_type": "code",
   "execution_count": 161,
   "metadata": {
    "ExecuteTime": {
     "end_time": "2021-03-07T21:58:04.908533Z",
     "start_time": "2021-03-07T21:58:04.496756Z"
    }
   },
   "outputs": [
    {
     "name": "stdout",
     "output_type": "stream",
     "text": [
      "28045630\n"
     ]
    }
   ],
   "source": [
    "#Part 2\n",
    "new_data = data[:posi]\n",
    "for pos, number in enumerate(new_data[:-1]):\n",
    "    for length in range(2,len(new_data)+1): \n",
    "        moving = new_data[pos:length]\n",
    "        if sum(moving) == odd: \n",
    "            print(min(moving) + max(moving))\n",
    "#             print(moving)\n",
    "            break"
   ]
  },
  {
   "cell_type": "code",
   "execution_count": null,
   "metadata": {},
   "outputs": [],
   "source": []
  }
 ],
 "metadata": {
  "kernelspec": {
   "display_name": "Python 3",
   "language": "python",
   "name": "python3"
  },
  "language_info": {
   "codemirror_mode": {
    "name": "ipython",
    "version": 3
   },
   "file_extension": ".py",
   "mimetype": "text/x-python",
   "name": "python",
   "nbconvert_exporter": "python",
   "pygments_lexer": "ipython3",
   "version": "3.8.1"
  },
  "latex_envs": {
   "LaTeX_envs_menu_present": true,
   "autoclose": false,
   "autocomplete": true,
   "bibliofile": "biblio.bib",
   "cite_by": "apalike",
   "current_citInitial": 1,
   "eqLabelWithNumbers": true,
   "eqNumInitial": 1,
   "hotkeys": {
    "equation": "Ctrl-E",
    "itemize": "Ctrl-I"
   },
   "labels_anchors": false,
   "latex_user_defs": false,
   "report_style_numbering": false,
   "user_envs_cfg": false
  },
  "toc": {
   "base_numbering": 1,
   "nav_menu": {},
   "number_sections": true,
   "sideBar": true,
   "skip_h1_title": false,
   "title_cell": "Table of Contents",
   "title_sidebar": "Contents",
   "toc_cell": false,
   "toc_position": {},
   "toc_section_display": true,
   "toc_window_display": false
  },
  "varInspector": {
   "cols": {
    "lenName": 16,
    "lenType": 16,
    "lenVar": 40
   },
   "kernels_config": {
    "python": {
     "delete_cmd_postfix": "",
     "delete_cmd_prefix": "del ",
     "library": "var_list.py",
     "varRefreshCmd": "print(var_dic_list())"
    },
    "r": {
     "delete_cmd_postfix": ") ",
     "delete_cmd_prefix": "rm(",
     "library": "var_list.r",
     "varRefreshCmd": "cat(var_dic_list()) "
    }
   },
   "types_to_exclude": [
    "module",
    "function",
    "builtin_function_or_method",
    "instance",
    "_Feature"
   ],
   "window_display": false
  }
 },
 "nbformat": 4,
 "nbformat_minor": 4
}
