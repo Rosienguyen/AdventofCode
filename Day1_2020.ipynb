{
 "cells": [
  {
   "cell_type": "markdown",
   "metadata": {},
   "source": [
    "# Day 1"
   ]
  },
  {
   "cell_type": "markdown",
   "metadata": {},
   "source": [
    "## Part 1"
   ]
  },
  {
   "cell_type": "code",
   "execution_count": 3,
   "metadata": {
    "ExecuteTime": {
     "end_time": "2021-02-28T17:28:03.380274Z",
     "start_time": "2021-02-28T17:28:03.377574Z"
    }
   },
   "outputs": [],
   "source": [
    "file = open(\"Day1.txt\", 'r')"
   ]
  },
  {
   "cell_type": "code",
   "execution_count": 4,
   "metadata": {
    "ExecuteTime": {
     "end_time": "2021-02-28T17:28:06.604907Z",
     "start_time": "2021-02-28T17:28:06.600925Z"
    }
   },
   "outputs": [],
   "source": [
    "data = file.read().strip().splitlines()\n",
    "data = [int(i) for i in data]\n",
    "# data"
   ]
  },
  {
   "cell_type": "code",
   "execution_count": 7,
   "metadata": {
    "ExecuteTime": {
     "end_time": "2021-02-28T17:29:01.890916Z",
     "start_time": "2021-02-28T17:29:01.886968Z"
    }
   },
   "outputs": [
    {
     "name": "stdout",
     "output_type": "stream",
     "text": [
      "1301 719 935419\n"
     ]
    }
   ],
   "source": [
    "# Solution 1\n",
    "for ind, value in enumerate(data): \n",
    "    rest = 2020- value\n",
    "    if rest in data[ind+1: ]: \n",
    "        print(value, rest, value * rest)"
   ]
  },
  {
   "cell_type": "code",
   "execution_count": 8,
   "metadata": {
    "ExecuteTime": {
     "end_time": "2021-02-28T17:29:44.652570Z",
     "start_time": "2021-02-28T17:29:44.648373Z"
    }
   },
   "outputs": [
    {
     "name": "stdout",
     "output_type": "stream",
     "text": [
      "719 1301 935419\n"
     ]
    }
   ],
   "source": [
    "# Solution 2\n",
    "p = {}\n",
    "for ind, value in enumerate(data): \n",
    "    rest = 2020- value\n",
    "    p[value] = rest\n",
    "    if value == p.get(rest):\n",
    "        print(value, rest, value * rest)"
   ]
  },
  {
   "cell_type": "code",
   "execution_count": 9,
   "metadata": {
    "ExecuteTime": {
     "end_time": "2021-02-28T17:29:46.931055Z",
     "start_time": "2021-02-28T17:29:46.923581Z"
    }
   },
   "outputs": [
    {
     "name": "stdout",
     "output_type": "stream",
     "text": [
      "1301 719 935419\n"
     ]
    }
   ],
   "source": [
    "#Solution 3\n",
    "for i in range(len(data)): \n",
    "    for j in range( i+1, len(data)-1): \n",
    "        if data[i] + data[j] == 2020: \n",
    "            print(data[i], data[j], data[i] *data[j])"
   ]
  },
  {
   "cell_type": "markdown",
   "metadata": {},
   "source": [
    "## Part 2"
   ]
  },
  {
   "cell_type": "code",
   "execution_count": 12,
   "metadata": {
    "ExecuteTime": {
     "end_time": "2021-02-28T17:30:23.812364Z",
     "start_time": "2021-02-28T17:30:23.523975Z"
    }
   },
   "outputs": [
    {
     "name": "stdout",
     "output_type": "stream",
     "text": [
      "889 1079 52 49880012\n"
     ]
    }
   ],
   "source": [
    "# Solution 1\n",
    "for i in range(len(data)-2): \n",
    "    for j in range( i+1, len(data)-1): \n",
    "        for k in range(j+1, len(data)): \n",
    "            if data[i] + data[j] + data[k] == 2020: \n",
    "                print(data[i], data[j], data[k], data[i] *data[j] * data[k])"
   ]
  },
  {
   "cell_type": "code",
   "execution_count": 13,
   "metadata": {
    "ExecuteTime": {
     "end_time": "2021-02-28T17:30:46.676489Z",
     "start_time": "2021-02-28T17:30:46.664345Z"
    }
   },
   "outputs": [
    {
     "name": "stdout",
     "output_type": "stream",
     "text": [
      "889 1079 52 49880012\n"
     ]
    }
   ],
   "source": [
    "# Solution 2\n",
    "results = {}\n",
    "for ind, value in enumerate(data[:-3]): \n",
    "    rest = 2020- value\n",
    "    for value2 in data[ind+1:]: \n",
    "        rest2= rest - value2\n",
    "        results[value2] = rest2\n",
    "        if value2 == results.get(rest2): \n",
    "            print(value,rest2, value2,  value *value2* rest2)\n",
    "            break"
   ]
  },
  {
   "cell_type": "code",
   "execution_count": null,
   "metadata": {},
   "outputs": [],
   "source": []
  }
 ],
 "metadata": {
  "kernelspec": {
   "display_name": "Python 3",
   "language": "python",
   "name": "python3"
  },
  "language_info": {
   "codemirror_mode": {
    "name": "ipython",
    "version": 3
   },
   "file_extension": ".py",
   "mimetype": "text/x-python",
   "name": "python",
   "nbconvert_exporter": "python",
   "pygments_lexer": "ipython3",
   "version": "3.8.1"
  },
  "latex_envs": {
   "LaTeX_envs_menu_present": true,
   "autoclose": false,
   "autocomplete": true,
   "bibliofile": "biblio.bib",
   "cite_by": "apalike",
   "current_citInitial": 1,
   "eqLabelWithNumbers": true,
   "eqNumInitial": 1,
   "hotkeys": {
    "equation": "Ctrl-E",
    "itemize": "Ctrl-I"
   },
   "labels_anchors": false,
   "latex_user_defs": false,
   "report_style_numbering": false,
   "user_envs_cfg": false
  },
  "toc": {
   "base_numbering": 1,
   "nav_menu": {},
   "number_sections": true,
   "sideBar": true,
   "skip_h1_title": false,
   "title_cell": "Table of Contents",
   "title_sidebar": "Contents",
   "toc_cell": false,
   "toc_position": {},
   "toc_section_display": true,
   "toc_window_display": true
  },
  "varInspector": {
   "cols": {
    "lenName": 16,
    "lenType": 16,
    "lenVar": 40
   },
   "kernels_config": {
    "python": {
     "delete_cmd_postfix": "",
     "delete_cmd_prefix": "del ",
     "library": "var_list.py",
     "varRefreshCmd": "print(var_dic_list())"
    },
    "r": {
     "delete_cmd_postfix": ") ",
     "delete_cmd_prefix": "rm(",
     "library": "var_list.r",
     "varRefreshCmd": "cat(var_dic_list()) "
    }
   },
   "types_to_exclude": [
    "module",
    "function",
    "builtin_function_or_method",
    "instance",
    "_Feature"
   ],
   "window_display": false
  }
 },
 "nbformat": 4,
 "nbformat_minor": 4
}
