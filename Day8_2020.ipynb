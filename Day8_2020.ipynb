{
 "cells": [
  {
   "cell_type": "code",
   "execution_count": 53,
   "metadata": {
    "ExecuteTime": {
     "end_time": "2021-03-06T20:26:07.565071Z",
     "start_time": "2021-03-06T20:26:07.559677Z"
    }
   },
   "outputs": [
    {
     "data": {
      "text/plain": [
       "['acc +22', 'acc +42', 'nop +456', 'jmp +5', 'acc +31']"
      ]
     },
     "execution_count": 53,
     "metadata": {},
     "output_type": "execute_result"
    }
   ],
   "source": [
    "with open('Day8.txt', 'rt') as f: \n",
    "    data = f.read().split('\\n')\n",
    "data[:5]"
   ]
  },
  {
   "cell_type": "code",
   "execution_count": 54,
   "metadata": {
    "ExecuteTime": {
     "end_time": "2021-03-06T20:26:14.393266Z",
     "start_time": "2021-03-06T20:26:14.389459Z"
    }
   },
   "outputs": [],
   "source": [
    "instructions = {}\n",
    "for ind, instruction in enumerate(data):\n",
    "    command, step = instruction.split()\n",
    "    instructions[ind] = [command, int(step)]\n",
    "# instructions"
   ]
  },
  {
   "cell_type": "code",
   "execution_count": 57,
   "metadata": {
    "ExecuteTime": {
     "end_time": "2021-03-06T20:26:39.346271Z",
     "start_time": "2021-03-06T20:26:39.342551Z"
    },
    "code_folding": []
   },
   "outputs": [],
   "source": [
    "def procedure (instructions, key, accumulator):   \n",
    "    command, step = instructions.get(key)\n",
    "#     print('key: ', key, ', command:', command)\n",
    "    if command == 'nop': \n",
    "        key += 1\n",
    "#         print('command : nop',   ', accumulator: ', accumulator)\n",
    "    elif command == 'jmp':  \n",
    "        key += step\n",
    "#         print('command :', command, ', accumulator: ', accumulator)\n",
    "    else: \n",
    "        key += 1\n",
    "        accumulator += step\n",
    "#         print('command :', command, ', accumulator: ', accumulator)\n",
    "    return key, accumulator"
   ]
  },
  {
   "cell_type": "code",
   "execution_count": 66,
   "metadata": {
    "ExecuteTime": {
     "end_time": "2021-03-06T20:50:45.901757Z",
     "start_time": "2021-03-06T20:50:45.896416Z"
    }
   },
   "outputs": [
    {
     "data": {
      "text/plain": [
       "1782"
      ]
     },
     "execution_count": 66,
     "metadata": {},
     "output_type": "execute_result"
    }
   ],
   "source": [
    "# Part 1\n",
    "\n",
    "key = 0 \n",
    "accumulator = 0 \n",
    "keys = list()\n",
    "\n",
    "while True: \n",
    "    key, accumulator = procedure(instructions, key, accumulator)\n",
    "    if key not in keys: \n",
    "        keys.append(key)\n",
    "    else: \n",
    "        break\n",
    "accumulator "
   ]
  },
  {
   "cell_type": "code",
   "execution_count": 67,
   "metadata": {
    "ExecuteTime": {
     "end_time": "2021-03-06T20:50:47.130433Z",
     "start_time": "2021-03-06T20:50:47.084296Z"
    }
   },
   "outputs": [
    {
     "name": "stdout",
     "output_type": "stream",
     "text": [
      "final_accumulator: 797\n"
     ]
    }
   ],
   "source": [
    "#Part 2\n",
    "\n",
    "def search_change(k, instructions): \n",
    "    dict_change = {'nop': 'jmp', 'jmp': 'nop'}\n",
    "    instructions_2 = {}\n",
    "    key_2 = 0\n",
    "    keys_2 = list()\n",
    "    accu = 0\n",
    "    last_key = max(instructions.keys())\n",
    "    for old_value, new_value in dict_change.items(): \n",
    "        if instructions.get(k)[0] == old_value:\n",
    "            dict_update={k:[new_value,instructions.get(k)[1]]}\n",
    "            instructions_2.update(instructions)\n",
    "            instructions_2.update(dict_update)\n",
    "            while last_key not in keys_2: \n",
    "                key_2, accu = procedure(instructions_2, key_2, accu)\n",
    "                if key_2 not in keys_2: \n",
    "                    keys_2.append(key_2)\n",
    "                else: \n",
    "                    break\n",
    "            if keys_2[-1] == last_key: \n",
    "                key_2, accu = procedure(instructions_2, key_2, accu)\n",
    "                print('final_accumulator:', accu)\n",
    "                break\n",
    "#                 return accu\n",
    "\n",
    "for k in keys:\n",
    "    search_change(k, instructions)"
   ]
  },
  {
   "cell_type": "code",
   "execution_count": null,
   "metadata": {},
   "outputs": [],
   "source": []
  }
 ],
 "metadata": {
  "kernelspec": {
   "display_name": "Python 3",
   "language": "python",
   "name": "python3"
  },
  "language_info": {
   "codemirror_mode": {
    "name": "ipython",
    "version": 3
   },
   "file_extension": ".py",
   "mimetype": "text/x-python",
   "name": "python",
   "nbconvert_exporter": "python",
   "pygments_lexer": "ipython3",
   "version": "3.8.1"
  },
  "latex_envs": {
   "LaTeX_envs_menu_present": true,
   "autoclose": false,
   "autocomplete": true,
   "bibliofile": "biblio.bib",
   "cite_by": "apalike",
   "current_citInitial": 1,
   "eqLabelWithNumbers": true,
   "eqNumInitial": 1,
   "hotkeys": {
    "equation": "Ctrl-E",
    "itemize": "Ctrl-I"
   },
   "labels_anchors": false,
   "latex_user_defs": false,
   "report_style_numbering": false,
   "user_envs_cfg": false
  },
  "toc": {
   "base_numbering": 1,
   "nav_menu": {},
   "number_sections": true,
   "sideBar": true,
   "skip_h1_title": false,
   "title_cell": "Table of Contents",
   "title_sidebar": "Contents",
   "toc_cell": false,
   "toc_position": {},
   "toc_section_display": true,
   "toc_window_display": false
  },
  "varInspector": {
   "cols": {
    "lenName": 16,
    "lenType": 16,
    "lenVar": 40
   },
   "kernels_config": {
    "python": {
     "delete_cmd_postfix": "",
     "delete_cmd_prefix": "del ",
     "library": "var_list.py",
     "varRefreshCmd": "print(var_dic_list())"
    },
    "r": {
     "delete_cmd_postfix": ") ",
     "delete_cmd_prefix": "rm(",
     "library": "var_list.r",
     "varRefreshCmd": "cat(var_dic_list()) "
    }
   },
   "types_to_exclude": [
    "module",
    "function",
    "builtin_function_or_method",
    "instance",
    "_Feature"
   ],
   "window_display": false
  }
 },
 "nbformat": 4,
 "nbformat_minor": 4
}
