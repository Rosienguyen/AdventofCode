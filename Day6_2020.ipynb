{
 "cells": [
  {
   "cell_type": "code",
   "execution_count": 1,
   "metadata": {
    "ExecuteTime": {
     "end_time": "2021-02-28T17:51:42.305588Z",
     "start_time": "2021-02-28T17:51:42.301777Z"
    }
   },
   "outputs": [],
   "source": [
    "with open ('Day6.txt', 'rt') as f: \n",
    "    data = f.read().strip()\n",
    "data = data.split('\\n\\n')\n",
    "# data[:5]\n"
   ]
  },
  {
   "cell_type": "code",
   "execution_count": 64,
   "metadata": {
    "ExecuteTime": {
     "end_time": "2021-02-19T22:20:00.892543Z",
     "start_time": "2021-02-19T22:20:00.887893Z"
    }
   },
   "outputs": [
    {
     "name": "stdout",
     "output_type": "stream",
     "text": [
      "6778\n"
     ]
    }
   ],
   "source": [
    "# part 1\n",
    "total_yes = 0\n",
    "remove = set(['\\n'])\n",
    "for group in data:\n",
    "    yes_answers = list(set(group).difference(remove))\n",
    "    total_yes += len(yes_answers)\n",
    "print(total_yes)"
   ]
  },
  {
   "cell_type": "code",
   "execution_count": 92,
   "metadata": {
    "ExecuteTime": {
     "end_time": "2021-02-19T23:13:54.832254Z",
     "start_time": "2021-02-19T23:13:54.825268Z"
    }
   },
   "outputs": [
    {
     "name": "stdout",
     "output_type": "stream",
     "text": [
      "3406\n"
     ]
    }
   ],
   "source": [
    "#part 2\n",
    "common_yes = 0\n",
    "for group in data:\n",
    "    for ind, traveler in enumerate(group.split()):\n",
    "#         print('set',set(traveler))\n",
    "        if ind == 0: \n",
    "            yes_answers = set(traveler)\n",
    "        yes_answers = yes_answers.intersection(set(traveler))\n",
    "    common_yes += len(yes_answers)\n",
    "print(common_yes)    \n",
    "  "
   ]
  },
  {
   "cell_type": "code",
   "execution_count": 93,
   "metadata": {
    "ExecuteTime": {
     "end_time": "2021-02-19T23:49:13.485490Z",
     "start_time": "2021-02-19T23:49:13.464536Z"
    }
   },
   "outputs": [
    {
     "name": "stdout",
     "output_type": "stream",
     "text": [
      "6778\n",
      "3406\n"
     ]
    }
   ],
   "source": [
    "# Credit to Eric Wastl\n",
    "r = open('Day6.txt').read().strip('\\n')\n",
    "input = r.split('\\n\\n')\n",
    "\n",
    "#Part 1:\n",
    "count = 0\n",
    "for group in input:\n",
    "    for question in 'qwertyuiopasdfghjklzxcvbnm':\n",
    "        if question in group:\n",
    "            count = count + 1\n",
    "print(count)\n",
    "\n",
    "#Part 2:\n",
    "count = 0\n",
    "for group in input:\n",
    "    group = group.splitlines()\n",
    "    ans = set(group[0])\n",
    "    for person in group:\n",
    "        ans = ans & set(person)\n",
    "    count = count + len(ans)\n",
    "\n",
    "print(count)"
   ]
  },
  {
   "cell_type": "code",
   "execution_count": null,
   "metadata": {},
   "outputs": [],
   "source": []
  }
 ],
 "metadata": {
  "kernelspec": {
   "display_name": "Python 3",
   "language": "python",
   "name": "python3"
  },
  "language_info": {
   "codemirror_mode": {
    "name": "ipython",
    "version": 3
   },
   "file_extension": ".py",
   "mimetype": "text/x-python",
   "name": "python",
   "nbconvert_exporter": "python",
   "pygments_lexer": "ipython3",
   "version": "3.8.1"
  },
  "latex_envs": {
   "LaTeX_envs_menu_present": true,
   "autoclose": false,
   "autocomplete": true,
   "bibliofile": "biblio.bib",
   "cite_by": "apalike",
   "current_citInitial": 1,
   "eqLabelWithNumbers": true,
   "eqNumInitial": 1,
   "hotkeys": {
    "equation": "Ctrl-E",
    "itemize": "Ctrl-I"
   },
   "labels_anchors": false,
   "latex_user_defs": false,
   "report_style_numbering": false,
   "user_envs_cfg": false
  },
  "toc": {
   "base_numbering": 1,
   "nav_menu": {},
   "number_sections": true,
   "sideBar": true,
   "skip_h1_title": false,
   "title_cell": "Table of Contents",
   "title_sidebar": "Contents",
   "toc_cell": false,
   "toc_position": {},
   "toc_section_display": true,
   "toc_window_display": false
  },
  "varInspector": {
   "cols": {
    "lenName": 16,
    "lenType": 16,
    "lenVar": 40
   },
   "kernels_config": {
    "python": {
     "delete_cmd_postfix": "",
     "delete_cmd_prefix": "del ",
     "library": "var_list.py",
     "varRefreshCmd": "print(var_dic_list())"
    },
    "r": {
     "delete_cmd_postfix": ") ",
     "delete_cmd_prefix": "rm(",
     "library": "var_list.r",
     "varRefreshCmd": "cat(var_dic_list()) "
    }
   },
   "types_to_exclude": [
    "module",
    "function",
    "builtin_function_or_method",
    "instance",
    "_Feature"
   ],
   "window_display": false
  }
 },
 "nbformat": 4,
 "nbformat_minor": 4
}
