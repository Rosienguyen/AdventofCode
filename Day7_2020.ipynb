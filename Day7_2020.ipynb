{
 "cells": [
  {
   "cell_type": "code",
   "execution_count": 59,
   "metadata": {
    "ExecuteTime": {
     "end_time": "2021-02-28T15:12:14.245483Z",
     "start_time": "2021-02-28T15:12:14.240333Z"
    }
   },
   "outputs": [
    {
     "data": {
      "text/plain": [
       "594"
      ]
     },
     "execution_count": 59,
     "metadata": {},
     "output_type": "execute_result"
    }
   ],
   "source": [
    "with open('Day7.txt', 'rt') as f: \n",
    "    data = f.read().strip()\n",
    "data = data.split('.\\n')\n",
    "len(data)"
   ]
  },
  {
   "cell_type": "code",
   "execution_count": 62,
   "metadata": {
    "ExecuteTime": {
     "end_time": "2021-02-28T14:53:34.989489Z",
     "start_time": "2021-02-28T14:53:34.955749Z"
    },
    "scrolled": true
   },
   "outputs": [
    {
     "data": {
      "text/plain": [
       "205"
      ]
     },
     "execution_count": 62,
     "metadata": {},
     "output_type": "execute_result"
    }
   ],
   "source": [
    "# Part 1 - Solution 1\n",
    "rules = {}\n",
    "import re\n",
    "pattern = r'[0-9]'\n",
    "for rule in data:\n",
    "    rule = rule.replace(' bags','').replace(' bag','')\n",
    "    outer_bag, inner_bag = rule.split(' contain ')\n",
    "    inner_bag = re.sub(pattern, '',inner_bag)\n",
    "    if inner_bag.strip() == 'no other': \n",
    "        pass\n",
    "    else: \n",
    "        rules[outer_bag] = inner_bag.strip().split(',  ')\n",
    "# rules\n",
    "def recursive_dfs(graph, source,path = set()):\n",
    "    for key, value in graph.items(): \n",
    "        if source in value:\n",
    "#             print('value:',value, 'key:', key )\n",
    "            path.add(key)\n",
    "            if recursive_dfs(graph, key, path) is None: \n",
    "                path.add(i for i in recursive_dfs(graph, key, path))\n",
    "    return path\n",
    "\n",
    "outer_bags = recursive_dfs(rules, \"shiny gold\")\n",
    "\n",
    "len(outer_bags)\n"
   ]
  },
  {
   "cell_type": "code",
   "execution_count": 1,
   "metadata": {
    "ExecuteTime": {
     "end_time": "2021-03-07T21:51:37.475259Z",
     "start_time": "2021-03-07T21:51:37.462649Z"
    }
   },
   "outputs": [
    {
     "name": "stdout",
     "output_type": "stream",
     "text": [
      "205\n"
     ]
    }
   ],
   "source": [
    "#Part 1 - Solution 2\n",
    "with open(\"Day7.txt\", \"rt\") as f:\n",
    "    data = f.read()\n",
    "data = data.strip().split(\"\\n\")\n",
    "bagspecs = []\n",
    "for bag in data:\n",
    "    bag = bag.replace(\" bags\", \"\").replace(\" bag\", \"\")\n",
    "    name, contents = bag.split(\" contain \")\n",
    "    assert contents.endswith(\".\")\n",
    "    contents = contents[:-1]\n",
    "    inner_bags = []\n",
    "    if contents == \"no other\":\n",
    "        continue\n",
    "    for count_bagtype in contents.split(\", \"):\n",
    "        count, bagtype = count_bagtype.split(\" \", 1)\n",
    "        inner_bags.append((int(count), bagtype))\n",
    "    bagspecs.append((name, inner_bags))\n",
    "\n",
    "import collections\n",
    "edges = collections.defaultdict(list)\n",
    "for name, inner_bags in bagspecs:\n",
    "    for _, innername in inner_bags:\n",
    "        edges[innername].append(name)\n",
    "\n",
    "visited = set()\n",
    "\n",
    "def dfs(node):\n",
    "    if node in visited:\n",
    "        return\n",
    "    visited.add(node)\n",
    "    for child in edges[node]:\n",
    "#         print('parents: ', node, ', child: ', child)\n",
    "        dfs(child)\n",
    "    return visited\n",
    "\n",
    "print(len(dfs(\"shiny gold\"))-1)"
   ]
  },
  {
   "cell_type": "code",
   "execution_count": 5,
   "metadata": {
    "ExecuteTime": {
     "end_time": "2021-03-07T21:55:23.964090Z",
     "start_time": "2021-03-07T21:55:23.959292Z"
    }
   },
   "outputs": [
    {
     "name": "stdout",
     "output_type": "stream",
     "text": [
      "80902\n"
     ]
    }
   ],
   "source": [
    "#Part 2\n",
    "\n",
    "edges = dict(bagspecs)\n",
    "\n",
    "visited = set()\n",
    "\n",
    "def num_visited(node): # node = green\n",
    "    res = 1\n",
    "#     print('parent_node:', node)\n",
    "    for count, child in edges.get(node, []):\n",
    "        \n",
    "        magic = num_visited(child) # num_visited = 2\n",
    "#         print('node:', node, ', res: ', res, ', count: ', count, ', child: ', child, ', magic: ', magic)\n",
    "        res += count * magic\n",
    "#         print('res_total: ', res)\n",
    "    return res\n",
    "print(num_visited(\"shiny gold\") - 1)\n",
    "# print(num_visited(\"red\") - 1)\n"
   ]
  },
  {
   "cell_type": "code",
   "execution_count": null,
   "metadata": {},
   "outputs": [],
   "source": []
  }
 ],
 "metadata": {
  "kernelspec": {
   "display_name": "Python 3",
   "language": "python",
   "name": "python3"
  },
  "language_info": {
   "codemirror_mode": {
    "name": "ipython",
    "version": 3
   },
   "file_extension": ".py",
   "mimetype": "text/x-python",
   "name": "python",
   "nbconvert_exporter": "python",
   "pygments_lexer": "ipython3",
   "version": "3.8.1"
  },
  "latex_envs": {
   "LaTeX_envs_menu_present": true,
   "autoclose": false,
   "autocomplete": true,
   "bibliofile": "biblio.bib",
   "cite_by": "apalike",
   "current_citInitial": 1,
   "eqLabelWithNumbers": true,
   "eqNumInitial": 1,
   "hotkeys": {
    "equation": "Ctrl-E",
    "itemize": "Ctrl-I"
   },
   "labels_anchors": false,
   "latex_user_defs": false,
   "report_style_numbering": false,
   "user_envs_cfg": false
  },
  "toc": {
   "base_numbering": 1,
   "nav_menu": {},
   "number_sections": true,
   "sideBar": true,
   "skip_h1_title": false,
   "title_cell": "Table of Contents",
   "title_sidebar": "Contents",
   "toc_cell": false,
   "toc_position": {},
   "toc_section_display": true,
   "toc_window_display": false
  },
  "varInspector": {
   "cols": {
    "lenName": 16,
    "lenType": 16,
    "lenVar": 40
   },
   "kernels_config": {
    "python": {
     "delete_cmd_postfix": "",
     "delete_cmd_prefix": "del ",
     "library": "var_list.py",
     "varRefreshCmd": "print(var_dic_list())"
    },
    "r": {
     "delete_cmd_postfix": ") ",
     "delete_cmd_prefix": "rm(",
     "library": "var_list.r",
     "varRefreshCmd": "cat(var_dic_list()) "
    }
   },
   "types_to_exclude": [
    "module",
    "function",
    "builtin_function_or_method",
    "instance",
    "_Feature"
   ],
   "window_display": false
  }
 },
 "nbformat": 4,
 "nbformat_minor": 4
}
